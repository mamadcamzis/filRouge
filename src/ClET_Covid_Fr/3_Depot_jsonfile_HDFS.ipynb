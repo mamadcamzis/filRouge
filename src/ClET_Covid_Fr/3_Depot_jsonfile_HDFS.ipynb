{
 "cells": [
  {
   "cell_type": "markdown",
   "metadata": {},
   "source": [
    "# Dépot donnée sous HDFS, lecture et nettoyage des données et Dépôt des données dans un schéma HBase "
   ]
  },
  {
   "cell_type": "code",
   "execution_count": 1,
   "metadata": {},
   "outputs": [],
   "source": [
    "import pyspark\n",
    "from pyspark import SparkConf,SparkContext\n",
    "\n",
    " \n"
   ]
  },
  {
   "cell_type": "markdown",
   "metadata": {},
   "source": [
    "## Configuration "
   ]
  },
  {
   "cell_type": "code",
   "execution_count": 2,
   "metadata": {},
   "outputs": [],
   "source": [
    "conf = pyspark.SparkConf().setAll([('spark.executor.memory', '8g'), ('spark.executor.cores', '3'), ('spark.cores.max', '3'), ('spark.driver.memory','8g')])\n",
    "\n",
    "sc = pyspark.SparkContext(conf=conf)\n",
    "\n",
    "sqlContext = pyspark.SQLContext(sc)\n"
   ]
  },
  {
   "cell_type": "markdown",
   "metadata": {},
   "source": [
    "## Lecture des données en local avec Pyspark"
   ]
  },
  {
   "cell_type": "code",
   "execution_count": 3,
   "metadata": {},
   "outputs": [],
   "source": [
    "# les données json\n",
    "data = sqlContext.read.json(\"data_CoronaWork_dict.json\")"
   ]
  },
  {
   "cell_type": "code",
   "execution_count": 4,
   "metadata": {},
   "outputs": [],
   "source": [
    "# les données csv\n",
    "data_csv= sqlContext.read.option(\"header\", \"true\").option(\"delimiter\", \",\").csv(\"data_CoronaWork_CSV_Clean.csv\")"
   ]
  },
  {
   "cell_type": "code",
   "execution_count": 5,
   "metadata": {},
   "outputs": [],
   "source": [
    "data_csv_encode=sqlContext.read.option(\"header\", \"true\").option(\"delimiter\", \",\").csv(\"data_CoronaWork_CSV_Clean_with_Encodage.csv\")"
   ]
  },
  {
   "cell_type": "code",
   "execution_count": 6,
   "metadata": {},
   "outputs": [],
   "source": [
    "tableau_encodage=sqlContext.read.option(\"header\", \"true\").option(\"delimiter\", \",\").csv(\"Encodage_Data_Table.csv\")"
   ]
  },
  {
   "cell_type": "markdown",
   "metadata": {},
   "source": [
    "## Connexion à HDFS depuis mon terminal (ma console)\n",
    "\n"
   ]
  },
  {
   "cell_type": "markdown",
   "metadata": {},
   "source": [
    "sudo docker run --hostname=quickstart.cloudera --privileged=true -t -i --publish-all=true -p 8881:8888 -p 80:80 -p 7180:7180 -v /home/fitec/Documents/cloudera:/src cloudera/quickstart /usr/bin/docker-quickstart\n",
    "\n",
    "\n",
    "[root@quickstart /]#cd home/cloudera\n",
    "[root@quickstart cloudera]# ./cloudera-manager --express\n",
    "\n",
    "sur website : \n",
    "http://localhost:7180\n",
    "\n",
    "démarrage : hdfs, yarn, zookeeper, hive, hbase\n",
    "\n",
    "\n",
    "sur la console\n",
    "[root@quickstart /]# hdfs dfs -ls\n",
    "[root@quickstart /]# hdfs dfs -mkdir ProjetFinal \n",
    "[root@quickstart /]# hdfs dfs -mkdir ProjetFinal/teleCoroFr\n",
    "(les deux dernières étapes ne sont pas nécessaires car ils seront faite immédiatemment depuis data.write.json)\n"
   ]
  },
  {
   "cell_type": "markdown",
   "metadata": {},
   "source": [
    "## Dépôt des données brut \"json\" dans hdfs "
   ]
  },
  {
   "cell_type": "code",
   "execution_count": 7,
   "metadata": {},
   "outputs": [],
   "source": [
    "data.write.json(\"hdfs://172.17.0.3:8020/user/root/ProjetFinal/teleCoroFr/data_CoronaWork_dict1.json\")"
   ]
  },
  {
   "cell_type": "markdown",
   "metadata": {},
   "source": [
    "## Dépôt des données Clean \"csv\" dans hdfs "
   ]
  },
  {
   "cell_type": "code",
   "execution_count": 8,
   "metadata": {},
   "outputs": [],
   "source": [
    "data_csv.write.option(\"header\", \"true\").option(\"delimiter\", \",\").csv(\"hdfs://172.17.0.3:8020/user/root/ProjetFinal/teleCoroFr/data_CoronaWork_CSV_Clean1.csv\")"
   ]
  },
  {
   "cell_type": "markdown",
   "metadata": {},
   "source": [
    "## Dépôt des données Clean  encodées \"csv\" dans hdfs "
   ]
  },
  {
   "cell_type": "code",
   "execution_count": 9,
   "metadata": {},
   "outputs": [],
   "source": [
    "data_csv_encode.write.option(\"header\", \"true\").option(\"delimiter\", \",\").csv(\"hdfs://172.17.0.3:8020/user/root/ProjetFinal/teleCoroFr/data_CoronaWork_CSV_Clean_with_Encodage1.csv\")"
   ]
  },
  {
   "cell_type": "code",
   "execution_count": 10,
   "metadata": {},
   "outputs": [],
   "source": [
    "tableau_encodage.write.option(\"header\", \"true\").option(\"delimiter\", \",\").csv(\"hdfs://172.17.0.3:8020/user/root/ProjetFinal/teleCoroFr/Encodage_Data_Table1.csv\")"
   ]
  },
  {
   "cell_type": "code",
   "execution_count": null,
   "metadata": {},
   "outputs": [],
   "source": []
  },
  {
   "cell_type": "code",
   "execution_count": null,
   "metadata": {},
   "outputs": [],
   "source": []
  }
 ],
 "metadata": {
  "kernelspec": {
   "display_name": "Python 3",
   "language": "python",
   "name": "python3"
  },
  "language_info": {
   "codemirror_mode": {
    "name": "ipython",
    "version": 3
   },
   "file_extension": ".py",
   "mimetype": "text/x-python",
   "name": "python",
   "nbconvert_exporter": "python",
   "pygments_lexer": "ipython3",
   "version": "3.7.6"
  }
 },
 "nbformat": 4,
 "nbformat_minor": 4
}
