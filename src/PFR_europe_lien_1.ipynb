{
 "cells": [
  {
   "cell_type": "markdown",
   "metadata": {},
   "source": [
    "# Work from home, from an external site or on the move (2018)"
   ]
  },
  {
   "cell_type": "markdown",
   "metadata": {},
   "source": [
    " "
   ]
  },
  {
   "cell_type": "markdown",
   "metadata": {},
   "source": [
    "### Adresse web\n",
    "- lien = https://appsso.eurostat.ec.europa.eu/nui/show.do?dataset=isoc_iw_hem&lang=en\n",
    "\n",
    "\n",
    "### Fichier source\n",
    "- Pour l'année 2018 : Statistiques de la fréquence du télétravail par pays Européens\n",
    "- L'unité qui nous intéresse ici : \"Percentage of individuals\""
   ]
  },
  {
   "cell_type": "markdown",
   "metadata": {},
   "source": [
    " "
   ]
  },
  {
   "cell_type": "markdown",
   "metadata": {},
   "source": [
    "## 1) Import des bibliothèques et paramètres"
   ]
  },
  {
   "cell_type": "code",
   "execution_count": 1,
   "metadata": {},
   "outputs": [],
   "source": [
    "# Importation des bibliothèques\n",
    "import pandas as pd\n",
    "import numpy as np\n",
    "\n",
    "# Paramétrage des options d'affichage des colonnes\n",
    "pd.options.display.max_columns = None\n",
    "pd.set_option('display.max_colwidth', None)"
   ]
  },
  {
   "cell_type": "markdown",
   "metadata": {},
   "source": [
    " "
   ]
  },
  {
   "cell_type": "markdown",
   "metadata": {},
   "source": [
    "## 2) Nettoyage des données"
   ]
  },
  {
   "cell_type": "code",
   "execution_count": 8,
   "metadata": {},
   "outputs": [],
   "source": [
    "def traitement_df(chemin): \n",
    "    # Création du dataframe\n",
    "    df = pd.read_csv(chemin, sep=',', engine='python')\n",
    "\n",
    "    # Renommage des colonnes \n",
    "    df.rename(columns={'INDIC_IS':'categorie', 'GEO':'pays',\n",
    "                         'IND_TYPE':'type_individu', 'TIME':'annee',\n",
    "                         'UNIT':'unite', 'Value':'valeur', 'Flag and Footnotes':'notes'}, inplace=True)\n",
    "\n",
    "    # Suppression des colonnes non pertinentes\n",
    "    df_2 = df.drop([\"type_individu\", \"annee\", \"notes\"], axis=1)\n",
    "\n",
    "    # Remplace les \":\" par la valeur \"888\" afin de faire le traitement et conversion\n",
    "    df_2['valeur'] = df_2['valeur'].str.replace(':','888') # 888 pour identification simple des NaN\n",
    "    df_2.valeur = df_2.valeur.astype(int)\n",
    "\n",
    "    # Sélection des occurrences avec pour unité \"Percentage of individuals\"\n",
    "    #df_3 = df_2[df_2[\"unite\"] == \"Percentage of individuals\"]  # 280 lignes"
   ]
  },
  {
   "cell_type": "code",
   "execution_count": 12,
   "metadata": {},
   "outputs": [],
   "source": [
    "traitement_df(\"./isoc_iw_hem_1_Data.csv\")"
   ]
  },
  {
   "cell_type": "code",
   "execution_count": 17,
   "metadata": {},
   "outputs": [
    {
     "data": {
      "text/plain": [
       "(1400, 4)"
      ]
     },
     "execution_count": 17,
     "metadata": {},
     "output_type": "execute_result"
    }
   ],
   "source": [
    "df_2.shape"
   ]
  },
  {
   "cell_type": "code",
   "execution_count": 18,
   "metadata": {},
   "outputs": [
    {
     "data": {
      "text/html": [
       "<div>\n",
       "<style scoped>\n",
       "    .dataframe tbody tr th:only-of-type {\n",
       "        vertical-align: middle;\n",
       "    }\n",
       "\n",
       "    .dataframe tbody tr th {\n",
       "        vertical-align: top;\n",
       "    }\n",
       "\n",
       "    .dataframe thead th {\n",
       "        text-align: right;\n",
       "    }\n",
       "</style>\n",
       "<table border=\"1\" class=\"dataframe\">\n",
       "  <thead>\n",
       "    <tr style=\"text-align: right;\">\n",
       "      <th></th>\n",
       "      <th>categorie</th>\n",
       "      <th>pays</th>\n",
       "      <th>unite</th>\n",
       "      <th>valeur</th>\n",
       "    </tr>\n",
       "  </thead>\n",
       "  <tbody>\n",
       "    <tr>\n",
       "      <th>0</th>\n",
       "      <td>Individuals worked from home every day or almost every day</td>\n",
       "      <td>European Union - 27 countries (from 2020)</td>\n",
       "      <td>Percentage of individuals</td>\n",
       "      <td>4</td>\n",
       "    </tr>\n",
       "    <tr>\n",
       "      <th>5</th>\n",
       "      <td>Individuals worked from home every day or almost every day</td>\n",
       "      <td>European Union - 28 countries (2013-2020)</td>\n",
       "      <td>Percentage of individuals</td>\n",
       "      <td>5</td>\n",
       "    </tr>\n",
       "    <tr>\n",
       "      <th>10</th>\n",
       "      <td>Individuals worked from home every day or almost every day</td>\n",
       "      <td>European Union - 27 countries (2007-2013)</td>\n",
       "      <td>Percentage of individuals</td>\n",
       "      <td>5</td>\n",
       "    </tr>\n",
       "    <tr>\n",
       "      <th>15</th>\n",
       "      <td>Individuals worked from home every day or almost every day</td>\n",
       "      <td>European Union - 15 countries (1995-2004)</td>\n",
       "      <td>Percentage of individuals</td>\n",
       "      <td>5</td>\n",
       "    </tr>\n",
       "    <tr>\n",
       "      <th>20</th>\n",
       "      <td>Individuals worked from home every day or almost every day</td>\n",
       "      <td>Euro area (EA11-1999, EA12-2001, EA13-2007, EA15-2008, EA16-2009, EA17-2011, EA18-2014, EA19-2015)</td>\n",
       "      <td>Percentage of individuals</td>\n",
       "      <td>5</td>\n",
       "    </tr>\n",
       "  </tbody>\n",
       "</table>\n",
       "</div>"
      ],
      "text/plain": [
       "                                                     categorie  \\\n",
       "0   Individuals worked from home every day or almost every day   \n",
       "5   Individuals worked from home every day or almost every day   \n",
       "10  Individuals worked from home every day or almost every day   \n",
       "15  Individuals worked from home every day or almost every day   \n",
       "20  Individuals worked from home every day or almost every day   \n",
       "\n",
       "                                                                                                  pays  \\\n",
       "0                                                            European Union - 27 countries (from 2020)   \n",
       "5                                                            European Union - 28 countries (2013-2020)   \n",
       "10                                                           European Union - 27 countries (2007-2013)   \n",
       "15                                                           European Union - 15 countries (1995-2004)   \n",
       "20  Euro area (EA11-1999, EA12-2001, EA13-2007, EA15-2008, EA16-2009, EA17-2011, EA18-2014, EA19-2015)   \n",
       "\n",
       "                        unite  valeur  \n",
       "0   Percentage of individuals       4  \n",
       "5   Percentage of individuals       5  \n",
       "10  Percentage of individuals       5  \n",
       "15  Percentage of individuals       5  \n",
       "20  Percentage of individuals       5  "
      ]
     },
     "execution_count": 18,
     "metadata": {},
     "output_type": "execute_result"
    }
   ],
   "source": [
    "df_3.head()"
   ]
  },
  {
   "cell_type": "markdown",
   "metadata": {},
   "source": [
    "  "
   ]
  },
  {
   "cell_type": "markdown",
   "metadata": {},
   "source": [
    "## 3) Export"
   ]
  },
  {
   "cell_type": "markdown",
   "metadata": {},
   "source": [
    "### Datasets originaux "
   ]
  },
  {
   "cell_type": "code",
   "execution_count": 48,
   "metadata": {},
   "outputs": [],
   "source": [
    "# Création de deux datasets de 1000 et 400 lignes afin de les exploiter sous Tableau Public\n",
    "dataset_1 = df_2.loc[0:999, :]\n",
    "dataset_2 = df_2.loc[1000:1401, :]\n",
    "\n",
    "# Export des deux datasets crées au format CSV\n",
    "dataset_1.to_csv(r'./lien1_dataset_1.csv')  # 1000 lignes\n",
    "dataset_2.to_csv(r'./lien1_dataset_2.csv')  # 400  lignes\n",
    "\n",
    "\n",
    "# Export du dataset entier au format CSV\n",
    "df_2.to_csv(r'./lien1_dataset_full.csv')    # 1400 lignes\n",
    "\n",
    "# Export du dataset réduit au format CSV\n",
    "df_3.to_csv(r'./lien1_dataset_reduit.csv')  # 280 lignes"
   ]
  },
  {
   "cell_type": "markdown",
   "metadata": {},
   "source": [
    " "
   ]
  },
  {
   "cell_type": "markdown",
   "metadata": {},
   "source": [
    "### Pivot table (sélection de l'unité désirée)"
   ]
  },
  {
   "cell_type": "code",
   "execution_count": 10,
   "metadata": {},
   "outputs": [],
   "source": [
    "# Filtre sur la colonne \"UNIT\" : on s'intéresse à la valeur \"Percentage of individuals\"\n",
    "df_3 = df_2[df_2[\"unite\"] == \"Percentage of individuals\"]\n",
    "\n",
    "# Création de la pivot table \n",
    "piv_table = pd.pivot_table(df_3, values='valeur', index=['pays'], columns=['categorie'])\n",
    "\n",
    "# Export du pivot table au format CSV\n",
    "piv_table.to_csv(r'./lien1_dataset_3.csv')"
   ]
  },
  {
   "cell_type": "markdown",
   "metadata": {},
   "source": [
    " "
   ]
  }
 ],
 "metadata": {
  "kernelspec": {
   "display_name": "Python 3",
   "language": "python",
   "name": "python3"
  },
  "language_info": {
   "codemirror_mode": {
    "name": "ipython",
    "version": 3
   },
   "file_extension": ".py",
   "mimetype": "text/x-python",
   "name": "python",
   "nbconvert_exporter": "python",
   "pygments_lexer": "ipython3",
   "version": "3.7.6"
  }
 },
 "nbformat": 4,
 "nbformat_minor": 4
}
